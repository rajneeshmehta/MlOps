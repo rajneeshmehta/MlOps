{
  "nbformat": 4,
  "nbformat_minor": 0,
  "metadata": {
    "colab": {
      "name": "Copy of stockPredictor.ipynb",
      "provenance": [],
      "collapsed_sections": [],
      "include_colab_link": true
    },
    "kernelspec": {
      "name": "python3",
      "display_name": "Python 3"
    },
    "language_info": {
      "name": "python"
    },
    "accelerator": "GPU"
  },
  "cells": [
    {
      "cell_type": "markdown",
      "metadata": {
        "id": "view-in-github",
        "colab_type": "text"
      },
      "source": [
        "<a href=\"https://colab.research.google.com/github/rajneeshmehta/MlOps/blob/master/Copy_of_stockPredictor.ipynb\" target=\"_parent\"><img src=\"https://colab.research.google.com/assets/colab-badge.svg\" alt=\"Open In Colab\"/></a>"
      ]
    },
    {
      "cell_type": "code",
      "execution_count": null,
      "metadata": {
        "id": "XBYDHKd3LuH6"
      },
      "outputs": [],
      "source": [
        "# Import Libraries\n",
        "import numpy              as np\n",
        "import tensorflow         as tf\n",
        "import pandas             as pd\n",
        "import pandas_datareader  as pdr\n",
        "import matplotlib.pyplot  as plt\n",
        "\n",
        "import math\n",
        "\n",
        "from sklearn.preprocessing    import MinMaxScaler\n",
        "from tensorflow               import keras\n",
        "from tensorflow.keras.models  import Sequential\n",
        "from tensorflow.keras.layers  import Dense\n",
        "from tensorflow.keras.layers  import LSTM\n",
        "from sklearn.metrics          import mean_squared_error\n",
        "\n",
        "from tensorflow.python.framework.convert_to_constants import convert_variables_to_constants_v2"
      ]
    },
    {
      "cell_type": "code",
      "source": [
        "# Get data from API\n",
        "df = pdr.get_data_tiingo('AAPL', api_key=\"fd6e81c1a7b2402f2758e5012b2b9b9e73557e0a\")\n",
        "# df.to_csv('AAPL.csv')\n",
        "# df=pd.read_csv('AAPL.csv')\n",
        "\n",
        "# Reset Index to change index to 1,2,3,... \n",
        "df=df.reset_index()\n",
        "\n",
        "# Print last 5 line of dataframe\n",
        "df.tail()"
      ],
      "metadata": {
        "id": "ZYcXIopsL_a1",
        "colab": {
          "base_uri": "https://localhost:8080/",
          "height": 241
        },
        "outputId": "3274289c-6afb-4301-864e-c0b2518e342d"
      },
      "execution_count": null,
      "outputs": [
        {
          "output_type": "stream",
          "name": "stderr",
          "text": [
            "/usr/local/lib/python3.7/dist-packages/pandas_datareader/tiingo.py:234: FutureWarning: In a future version of pandas all arguments of concat except for the argument 'objs' will be keyword-only\n",
            "  return pd.concat(dfs, self._concat_axis)\n"
          ]
        },
        {
          "output_type": "execute_result",
          "data": {
            "text/plain": [
              "     symbol                      date   close      high     low     open  \\\n",
              "1253   AAPL 2022-06-02 00:00:00+00:00  151.21  151.2700  146.86  147.830   \n",
              "1254   AAPL 2022-06-03 00:00:00+00:00  145.38  147.9700  144.46  146.900   \n",
              "1255   AAPL 2022-06-06 00:00:00+00:00  146.14  148.5689  144.90  147.030   \n",
              "1256   AAPL 2022-06-07 00:00:00+00:00  148.71  149.0000  144.10  144.345   \n",
              "1257   AAPL 2022-06-08 00:00:00+00:00  147.96  149.8697  147.46  148.580   \n",
              "\n",
              "        volume  adjClose   adjHigh  adjLow  adjOpen  adjVolume  divCash  \\\n",
              "1253  72348055    151.21  151.2700  146.86  147.830   72348055      0.0   \n",
              "1254  88570289    145.38  147.9700  144.46  146.900   88570289      0.0   \n",
              "1255  71598380    146.14  148.5689  144.90  147.030   71598380      0.0   \n",
              "1256  67808150    148.71  149.0000  144.10  144.345   67808150      0.0   \n",
              "1257  53950201    147.96  149.8697  147.46  148.580   53950201      0.0   \n",
              "\n",
              "      splitFactor  \n",
              "1253          1.0  \n",
              "1254          1.0  \n",
              "1255          1.0  \n",
              "1256          1.0  \n",
              "1257          1.0  "
            ],
            "text/html": [
              "\n",
              "  <div id=\"df-3772e302-3410-4b3b-89af-b3c2f004d043\">\n",
              "    <div class=\"colab-df-container\">\n",
              "      <div>\n",
              "<style scoped>\n",
              "    .dataframe tbody tr th:only-of-type {\n",
              "        vertical-align: middle;\n",
              "    }\n",
              "\n",
              "    .dataframe tbody tr th {\n",
              "        vertical-align: top;\n",
              "    }\n",
              "\n",
              "    .dataframe thead th {\n",
              "        text-align: right;\n",
              "    }\n",
              "</style>\n",
              "<table border=\"1\" class=\"dataframe\">\n",
              "  <thead>\n",
              "    <tr style=\"text-align: right;\">\n",
              "      <th></th>\n",
              "      <th>symbol</th>\n",
              "      <th>date</th>\n",
              "      <th>close</th>\n",
              "      <th>high</th>\n",
              "      <th>low</th>\n",
              "      <th>open</th>\n",
              "      <th>volume</th>\n",
              "      <th>adjClose</th>\n",
              "      <th>adjHigh</th>\n",
              "      <th>adjLow</th>\n",
              "      <th>adjOpen</th>\n",
              "      <th>adjVolume</th>\n",
              "      <th>divCash</th>\n",
              "      <th>splitFactor</th>\n",
              "    </tr>\n",
              "  </thead>\n",
              "  <tbody>\n",
              "    <tr>\n",
              "      <th>1253</th>\n",
              "      <td>AAPL</td>\n",
              "      <td>2022-06-02 00:00:00+00:00</td>\n",
              "      <td>151.21</td>\n",
              "      <td>151.2700</td>\n",
              "      <td>146.86</td>\n",
              "      <td>147.830</td>\n",
              "      <td>72348055</td>\n",
              "      <td>151.21</td>\n",
              "      <td>151.2700</td>\n",
              "      <td>146.86</td>\n",
              "      <td>147.830</td>\n",
              "      <td>72348055</td>\n",
              "      <td>0.0</td>\n",
              "      <td>1.0</td>\n",
              "    </tr>\n",
              "    <tr>\n",
              "      <th>1254</th>\n",
              "      <td>AAPL</td>\n",
              "      <td>2022-06-03 00:00:00+00:00</td>\n",
              "      <td>145.38</td>\n",
              "      <td>147.9700</td>\n",
              "      <td>144.46</td>\n",
              "      <td>146.900</td>\n",
              "      <td>88570289</td>\n",
              "      <td>145.38</td>\n",
              "      <td>147.9700</td>\n",
              "      <td>144.46</td>\n",
              "      <td>146.900</td>\n",
              "      <td>88570289</td>\n",
              "      <td>0.0</td>\n",
              "      <td>1.0</td>\n",
              "    </tr>\n",
              "    <tr>\n",
              "      <th>1255</th>\n",
              "      <td>AAPL</td>\n",
              "      <td>2022-06-06 00:00:00+00:00</td>\n",
              "      <td>146.14</td>\n",
              "      <td>148.5689</td>\n",
              "      <td>144.90</td>\n",
              "      <td>147.030</td>\n",
              "      <td>71598380</td>\n",
              "      <td>146.14</td>\n",
              "      <td>148.5689</td>\n",
              "      <td>144.90</td>\n",
              "      <td>147.030</td>\n",
              "      <td>71598380</td>\n",
              "      <td>0.0</td>\n",
              "      <td>1.0</td>\n",
              "    </tr>\n",
              "    <tr>\n",
              "      <th>1256</th>\n",
              "      <td>AAPL</td>\n",
              "      <td>2022-06-07 00:00:00+00:00</td>\n",
              "      <td>148.71</td>\n",
              "      <td>149.0000</td>\n",
              "      <td>144.10</td>\n",
              "      <td>144.345</td>\n",
              "      <td>67808150</td>\n",
              "      <td>148.71</td>\n",
              "      <td>149.0000</td>\n",
              "      <td>144.10</td>\n",
              "      <td>144.345</td>\n",
              "      <td>67808150</td>\n",
              "      <td>0.0</td>\n",
              "      <td>1.0</td>\n",
              "    </tr>\n",
              "    <tr>\n",
              "      <th>1257</th>\n",
              "      <td>AAPL</td>\n",
              "      <td>2022-06-08 00:00:00+00:00</td>\n",
              "      <td>147.96</td>\n",
              "      <td>149.8697</td>\n",
              "      <td>147.46</td>\n",
              "      <td>148.580</td>\n",
              "      <td>53950201</td>\n",
              "      <td>147.96</td>\n",
              "      <td>149.8697</td>\n",
              "      <td>147.46</td>\n",
              "      <td>148.580</td>\n",
              "      <td>53950201</td>\n",
              "      <td>0.0</td>\n",
              "      <td>1.0</td>\n",
              "    </tr>\n",
              "  </tbody>\n",
              "</table>\n",
              "</div>\n",
              "      <button class=\"colab-df-convert\" onclick=\"convertToInteractive('df-3772e302-3410-4b3b-89af-b3c2f004d043')\"\n",
              "              title=\"Convert this dataframe to an interactive table.\"\n",
              "              style=\"display:none;\">\n",
              "        \n",
              "  <svg xmlns=\"http://www.w3.org/2000/svg\" height=\"24px\"viewBox=\"0 0 24 24\"\n",
              "       width=\"24px\">\n",
              "    <path d=\"M0 0h24v24H0V0z\" fill=\"none\"/>\n",
              "    <path d=\"M18.56 5.44l.94 2.06.94-2.06 2.06-.94-2.06-.94-.94-2.06-.94 2.06-2.06.94zm-11 1L8.5 8.5l.94-2.06 2.06-.94-2.06-.94L8.5 2.5l-.94 2.06-2.06.94zm10 10l.94 2.06.94-2.06 2.06-.94-2.06-.94-.94-2.06-.94 2.06-2.06.94z\"/><path d=\"M17.41 7.96l-1.37-1.37c-.4-.4-.92-.59-1.43-.59-.52 0-1.04.2-1.43.59L10.3 9.45l-7.72 7.72c-.78.78-.78 2.05 0 2.83L4 21.41c.39.39.9.59 1.41.59.51 0 1.02-.2 1.41-.59l7.78-7.78 2.81-2.81c.8-.78.8-2.07 0-2.86zM5.41 20L4 18.59l7.72-7.72 1.47 1.35L5.41 20z\"/>\n",
              "  </svg>\n",
              "      </button>\n",
              "      \n",
              "  <style>\n",
              "    .colab-df-container {\n",
              "      display:flex;\n",
              "      flex-wrap:wrap;\n",
              "      gap: 12px;\n",
              "    }\n",
              "\n",
              "    .colab-df-convert {\n",
              "      background-color: #E8F0FE;\n",
              "      border: none;\n",
              "      border-radius: 50%;\n",
              "      cursor: pointer;\n",
              "      display: none;\n",
              "      fill: #1967D2;\n",
              "      height: 32px;\n",
              "      padding: 0 0 0 0;\n",
              "      width: 32px;\n",
              "    }\n",
              "\n",
              "    .colab-df-convert:hover {\n",
              "      background-color: #E2EBFA;\n",
              "      box-shadow: 0px 1px 2px rgba(60, 64, 67, 0.3), 0px 1px 3px 1px rgba(60, 64, 67, 0.15);\n",
              "      fill: #174EA6;\n",
              "    }\n",
              "\n",
              "    [theme=dark] .colab-df-convert {\n",
              "      background-color: #3B4455;\n",
              "      fill: #D2E3FC;\n",
              "    }\n",
              "\n",
              "    [theme=dark] .colab-df-convert:hover {\n",
              "      background-color: #434B5C;\n",
              "      box-shadow: 0px 1px 3px 1px rgba(0, 0, 0, 0.15);\n",
              "      filter: drop-shadow(0px 1px 2px rgba(0, 0, 0, 0.3));\n",
              "      fill: #FFFFFF;\n",
              "    }\n",
              "  </style>\n",
              "\n",
              "      <script>\n",
              "        const buttonEl =\n",
              "          document.querySelector('#df-3772e302-3410-4b3b-89af-b3c2f004d043 button.colab-df-convert');\n",
              "        buttonEl.style.display =\n",
              "          google.colab.kernel.accessAllowed ? 'block' : 'none';\n",
              "\n",
              "        async function convertToInteractive(key) {\n",
              "          const element = document.querySelector('#df-3772e302-3410-4b3b-89af-b3c2f004d043');\n",
              "          const dataTable =\n",
              "            await google.colab.kernel.invokeFunction('convertToInteractive',\n",
              "                                                     [key], {});\n",
              "          if (!dataTable) return;\n",
              "\n",
              "          const docLinkHtml = 'Like what you see? Visit the ' +\n",
              "            '<a target=\"_blank\" href=https://colab.research.google.com/notebooks/data_table.ipynb>data table notebook</a>'\n",
              "            + ' to learn more about interactive tables.';\n",
              "          element.innerHTML = '';\n",
              "          dataTable['output_type'] = 'display_data';\n",
              "          await google.colab.output.renderOutput(dataTable, element);\n",
              "          const docLink = document.createElement('div');\n",
              "          docLink.innerHTML = docLinkHtml;\n",
              "          element.appendChild(docLink);\n",
              "        }\n",
              "      </script>\n",
              "    </div>\n",
              "  </div>\n",
              "  "
            ]
          },
          "metadata": {},
          "execution_count": 2
        }
      ]
    },
    {
      "cell_type": "code",
      "source": [
        ""
      ],
      "metadata": {
        "id": "K1lwgZADNyvo"
      },
      "execution_count": null,
      "outputs": []
    },
    {
      "cell_type": "code",
      "source": [
        ""
      ],
      "metadata": {
        "id": "uXolLjpLNyi4"
      },
      "execution_count": null,
      "outputs": []
    },
    {
      "cell_type": "code",
      "source": [
        ""
      ],
      "metadata": {
        "id": "ZdvXzVNeNzJr"
      },
      "execution_count": null,
      "outputs": []
    },
    {
      "cell_type": "code",
      "source": [
        "plt.plot(df['close'])"
      ],
      "metadata": {
        "colab": {
          "base_uri": "https://localhost:8080/",
          "height": 282
        },
        "id": "Mhw0Xr4aO0ZX",
        "outputId": "7dbb21c1-746e-4753-a9a0-af3c497b30db"
      },
      "execution_count": null,
      "outputs": [
        {
          "output_type": "execute_result",
          "data": {
            "text/plain": [
              "[<matplotlib.lines.Line2D at 0x7fc2023d9950>]"
            ]
          },
          "metadata": {},
          "execution_count": 3
        },
        {
          "output_type": "display_data",
          "data": {
            "text/plain": [
              "<Figure size 432x288 with 1 Axes>"
            ],
            "image/png": "[encoded data removed]"
          },
          "metadata": {
            "needs_background": "light"
          }
        }
      ]
    },
    {
      "cell_type": "code",
      "source": [
        "# Create New DataFrame with 'close' column\n",
        "df1 = df['close']\n",
        "\n",
        "# Convert dataframe to Numpy Array and reshape from (m,) to (m,1)\n",
        "df1 = np.array(df1).reshape(-1,1)\n",
        "\n",
        "# Transform Data Range to be (0,1)\n",
        "scaler=MinMaxScaler(feature_range=(0,1))\n",
        "df1=scaler.fit_transform(df1)\n",
        "\n",
        "# Train Test Split \n",
        "training_size=int(len(df1)*0.65)\n",
        "test_size=len(df1)-training_size\n",
        "train_data,test_data=df1[0:training_size,:],df1[training_size:len(df1),:1]\n",
        "training_size,test_size"
      ],
      "metadata": {
        "id": "Y_BGDargPqoZ",
        "colab": {
          "base_uri": "https://localhost:8080/"
        },
        "outputId": "e608c86f-dc05-40aa-ed19-79cac6710735"
      },
      "execution_count": null,
      "outputs": [
        {
          "output_type": "execute_result",
          "data": {
            "text/plain": [
              "(817, 441)"
            ]
          },
          "metadata": {},
          "execution_count": 4
        }
      ]
    },
    {
      "cell_type": "code",
      "source": [
        "# Create helper Function for Creating Dataset\n",
        "\"\"\"\n",
        "Window Size == Time Step \n",
        "We need 0 to (time_step -1) X value to Predict/Train 1 Y value\n",
        "\n",
        "\"\"\"\n",
        "import numpy\n",
        "def create_dataset(dataset, time_step=1):\n",
        "  dataX,dataY = [], []\n",
        "  for i in range(len(dataset)-time_step-1):\n",
        "    a = dataset[i:(i+time_step),0]\n",
        "    dataX.append(a)\n",
        "    dataY.append(dataset[i+time_step,0])\n",
        "  return numpy.array(dataX), numpy.array(dataY)"
      ],
      "metadata": {
        "id": "VahH18GCQ3ex"
      },
      "execution_count": null,
      "outputs": []
    },
    {
      "cell_type": "code",
      "source": [
        "# Set Window Size == Time Step == 100\n",
        "time_step = 100\n",
        "\n",
        "# Invoke create_dataset function to prepare dataset\n",
        "X_train, y_train = create_dataset(train_data, time_step)\n",
        "X_test, y_test = create_dataset(test_data, time_step)\n",
        "# print(X_train.shape), print(y_train.shape),  print(X_test.shape),  print(y_test.shape)\n",
        "\n",
        "# Reshape Train and Test set from (m, time_step) to (m, time_step,1)\n",
        "X_train = X_train.reshape(X_train.shape[0],X_train.shape[1],1)\n",
        "X_test = X_test.reshape(X_test.shape[0], X_test.shape[1],1)\n",
        "# print(X_train.shape), print(X_test.shape)"
      ],
      "metadata": {
        "id": "QwBKVyYtSAuA"
      },
      "execution_count": null,
      "outputs": []
    },
    {
      "cell_type": "code",
      "source": [
        "# Define a Sequential Model \n",
        "model=Sequential()\n",
        "model.add(LSTM(50,return_sequences=True,input_shape=(100,1)))\n",
        "model.add(LSTM(50,return_sequences=True))\n",
        "model.add(LSTM(50))\n",
        "model.add(Dense(1))\n",
        "\n",
        "# Compile the Model\n",
        "model.compile(loss='mean_squared_error',optimizer='adam')\n",
        "# Print the Model Summary\n",
        "model.summary()"
      ],
      "metadata": {
        "id": "3AdeF63ST0vU",
        "colab": {
          "base_uri": "https://localhost:8080/"
        },
        "outputId": "e6d6bb46-64c0-4a27-b2e0-5ae0b25a6ecd"
      },
      "execution_count": null,
      "outputs": [
        {
          "output_type": "stream",
          "name": "stdout",
          "text": [
            "Model: \"sequential\"\n",
            "_________________________________________________________________\n",
            " Layer (type)                Output Shape              Param #   \n",
            "=================================================================\n",
            " lstm (LSTM)                 (None, 100, 50)           10400     \n",
            "                                                                 \n",
            " lstm_1 (LSTM)               (None, 100, 50)           20200     \n",
            "                                                                 \n",
            " lstm_2 (LSTM)               (None, 50)                20200     \n",
            "                                                                 \n",
            " dense (Dense)               (None, 1)                 51        \n",
            "                                                                 \n",
            "=================================================================\n",
            "Total params: 50,851\n",
            "Trainable params: 50,851\n",
            "Non-trainable params: 0\n",
            "_________________________________________________________________\n"
          ]
        }
      ]
    },
    {
      "cell_type": "code",
      "source": [
        "# Train the Model\n",
        "model.fit(X_train,y_train,\n",
        "          validation_data=(X_test,y_test),\n",
        "          epochs=100,\n",
        "          batch_size=64,\n",
        "          verbose=1\n",
        "          )"
      ],
      "metadata": {
        "id": "KeZGg2DkUa9x",
        "colab": {
          "base_uri": "https://localhost:8080/"
        },
        "outputId": "e67f0456-9571-4f49-c435-6c201f8d2686"
      },
      "execution_count": null,
      "outputs": [
        {
          "output_type": "stream",
          "name": "stdout",
          "text": [
            "Epoch 1/100\n",
            "12/12 [==============================] - 15s 219ms/step - loss: 0.0318 - val_loss: 0.0018\n",
            "Epoch 2/100\n",
            "12/12 [==============================] - 0s 38ms/step - loss: 0.0094 - val_loss: 0.0056\n",
            "Epoch 3/100\n",
            "12/12 [==============================] - 0s 35ms/step - loss: 0.0078 - val_loss: 8.9639e-04\n",
            "Epoch 4/100\n",
            "12/12 [==============================] - 0s 38ms/step - loss: 0.0070 - val_loss: 3.3151e-04\n",
            "Epoch 5/100\n",
            "12/12 [==============================] - 0s 35ms/step - loss: 0.0065 - val_loss: 3.4536e-04\n",
            "Epoch 6/100\n",
            "12/12 [==============================] - 0s 32ms/step - loss: 0.0066 - val_loss: 3.5357e-04\n",
            "Epoch 7/100\n",
            "12/12 [==============================] - 0s 41ms/step - loss: 0.0081 - val_loss: 0.0019\n",
            "Epoch 8/100\n",
            "12/12 [==============================] - 0s 34ms/step - loss: 0.0063 - val_loss: 5.1632e-04\n",
            "Epoch 9/100\n",
            "12/12 [==============================] - 0s 34ms/step - loss: 0.0058 - val_loss: 3.4386e-04\n",
            "Epoch 10/100\n",
            "12/12 [==============================] - 0s 36ms/step - loss: 0.0066 - val_loss: 6.6818e-04\n",
            "Epoch 11/100\n",
            "12/12 [==============================] - 0s 27ms/step - loss: 0.0058 - val_loss: 3.4665e-04\n",
            "Epoch 12/100\n",
            "12/12 [==============================] - 0s 38ms/step - loss: 0.0057 - val_loss: 3.5001e-04\n",
            "Epoch 13/100\n",
            "12/12 [==============================] - 0s 37ms/step - loss: 0.0058 - val_loss: 5.2477e-04\n",
            "Epoch 14/100\n",
            "12/12 [==============================] - 0s 28ms/step - loss: 0.0060 - val_loss: 4.5457e-04\n",
            "Epoch 15/100\n",
            "12/12 [==============================] - 0s 35ms/step - loss: 0.0057 - val_loss: 3.4685e-04\n",
            "Epoch 16/100\n",
            "12/12 [==============================] - 0s 36ms/step - loss: 0.0060 - val_loss: 5.0483e-04\n",
            "Epoch 17/100\n",
            "12/12 [==============================] - 0s 27ms/step - loss: 0.0069 - val_loss: 3.7963e-04\n",
            "Epoch 18/100\n",
            "12/12 [==============================] - 0s 37ms/step - loss: 0.0063 - val_loss: 7.0463e-04\n",
            "Epoch 19/100\n",
            "12/12 [==============================] - 0s 27ms/step - loss: 0.0059 - val_loss: 5.9341e-04\n",
            "Epoch 20/100\n",
            "12/12 [==============================] - 0s 21ms/step - loss: 0.0056 - val_loss: 5.2767e-04\n",
            "Epoch 21/100\n",
            "12/12 [==============================] - 0s 17ms/step - loss: 0.0070 - val_loss: 0.0023\n",
            "Epoch 22/100\n",
            "12/12 [==============================] - 0s 19ms/step - loss: 0.0057 - val_loss: 4.0099e-04\n",
            "Epoch 23/100\n",
            "12/12 [==============================] - 0s 17ms/step - loss: 0.0048 - val_loss: 2.9326e-04\n",
            "Epoch 24/100\n",
            "12/12 [==============================] - 0s 18ms/step - loss: 0.0053 - val_loss: 5.0914e-04\n",
            "Epoch 25/100\n",
            "12/12 [==============================] - 0s 18ms/step - loss: 0.0045 - val_loss: 4.9385e-04\n",
            "Epoch 26/100\n",
            "12/12 [==============================] - 0s 18ms/step - loss: 0.0041 - val_loss: 0.0011\n",
            "Epoch 27/100\n",
            "12/12 [==============================] - 0s 18ms/step - loss: 0.0038 - val_loss: 6.4950e-04\n",
            "Epoch 28/100\n",
            "12/12 [==============================] - 0s 17ms/step - loss: 0.0034 - val_loss: 5.0130e-04\n",
            "Epoch 29/100\n",
            "12/12 [==============================] - 0s 18ms/step - loss: 0.0028 - val_loss: 2.6708e-04\n",
            "Epoch 30/100\n",
            "12/12 [==============================] - 0s 18ms/step - loss: 0.0028 - val_loss: 3.5256e-04\n",
            "Epoch 31/100\n",
            "12/12 [==============================] - 0s 18ms/step - loss: 0.0042 - val_loss: 2.3315e-04\n",
            "Epoch 32/100\n",
            "12/12 [==============================] - 0s 17ms/step - loss: 0.0037 - val_loss: 2.6667e-04\n",
            "Epoch 33/100\n",
            "12/12 [==============================] - 0s 17ms/step - loss: 0.0030 - val_loss: 3.3077e-04\n",
            "Epoch 34/100\n",
            "12/12 [==============================] - 0s 18ms/step - loss: 0.0025 - val_loss: 2.0643e-04\n",
            "Epoch 35/100\n",
            "12/12 [==============================] - 0s 17ms/step - loss: 0.0058 - val_loss: 2.9573e-04\n",
            "Epoch 36/100\n",
            "12/12 [==============================] - 0s 18ms/step - loss: 0.0044 - val_loss: 3.6407e-04\n",
            "Epoch 37/100\n",
            "12/12 [==============================] - 0s 17ms/step - loss: 0.0040 - val_loss: 1.8859e-04\n",
            "Epoch 38/100\n",
            "12/12 [==============================] - 0s 17ms/step - loss: 0.0038 - val_loss: 2.0151e-04\n",
            "Epoch 39/100\n",
            "12/12 [==============================] - 0s 18ms/step - loss: 0.0035 - val_loss: 1.7560e-04\n",
            "Epoch 40/100\n",
            "12/12 [==============================] - 0s 17ms/step - loss: 0.0031 - val_loss: 2.4734e-04\n",
            "Epoch 41/100\n",
            "12/12 [==============================] - 0s 19ms/step - loss: 0.0029 - val_loss: 4.2466e-04\n",
            "Epoch 42/100\n",
            "12/12 [==============================] - 0s 18ms/step - loss: 0.0027 - val_loss: 2.9577e-04\n",
            "Epoch 43/100\n",
            "12/12 [==============================] - 0s 17ms/step - loss: 0.0026 - val_loss: 4.7142e-04\n",
            "Epoch 44/100\n",
            "12/12 [==============================] - 0s 18ms/step - loss: 0.0026 - val_loss: 3.0056e-04\n",
            "Epoch 45/100\n",
            "12/12 [==============================] - 0s 18ms/step - loss: 0.0024 - val_loss: 2.6046e-04\n",
            "Epoch 46/100\n",
            "12/12 [==============================] - 0s 18ms/step - loss: 0.0023 - val_loss: 3.7484e-04\n",
            "Epoch 47/100\n",
            "12/12 [==============================] - 0s 18ms/step - loss: 0.0024 - val_loss: 2.4696e-04\n",
            "Epoch 48/100\n",
            "12/12 [==============================] - 0s 18ms/step - loss: 0.0024 - val_loss: 2.7321e-04\n",
            "Epoch 49/100\n",
            "12/12 [==============================] - 0s 18ms/step - loss: 0.0023 - val_loss: 1.7449e-04\n",
            "Epoch 50/100\n",
            "12/12 [==============================] - 0s 18ms/step - loss: 0.0020 - val_loss: 2.2328e-04\n",
            "Epoch 51/100\n",
            "12/12 [==============================] - 0s 17ms/step - loss: 0.0026 - val_loss: 1.7857e-04\n",
            "Epoch 52/100\n",
            "12/12 [==============================] - 0s 17ms/step - loss: 0.0023 - val_loss: 1.6294e-04\n",
            "Epoch 53/100\n",
            "12/12 [==============================] - 0s 18ms/step - loss: 0.0022 - val_loss: 1.5507e-04\n",
            "Epoch 54/100\n",
            "12/12 [==============================] - 0s 17ms/step - loss: 0.0021 - val_loss: 2.1964e-04\n",
            "Epoch 55/100\n",
            "12/12 [==============================] - 0s 18ms/step - loss: 0.0020 - val_loss: 1.6227e-04\n",
            "Epoch 56/100\n",
            "12/12 [==============================] - 0s 18ms/step - loss: 0.0019 - val_loss: 1.6412e-04\n",
            "Epoch 57/100\n",
            "12/12 [==============================] - 0s 19ms/step - loss: 0.0020 - val_loss: 2.0484e-04\n",
            "Epoch 58/100\n",
            "12/12 [==============================] - 0s 18ms/step - loss: 0.0017 - val_loss: 2.2222e-04\n",
            "Epoch 59/100\n",
            "12/12 [==============================] - 0s 17ms/step - loss: 0.0018 - val_loss: 2.2876e-04\n",
            "Epoch 60/100\n",
            "12/12 [==============================] - 0s 18ms/step - loss: 0.0021 - val_loss: 3.0216e-04\n",
            "Epoch 61/100\n",
            "12/12 [==============================] - 0s 18ms/step - loss: 0.0017 - val_loss: 1.6565e-04\n",
            "Epoch 62/100\n",
            "12/12 [==============================] - 0s 18ms/step - loss: 0.0018 - val_loss: 1.6843e-04\n",
            "Epoch 63/100\n",
            "12/12 [==============================] - 0s 17ms/step - loss: 0.0017 - val_loss: 2.4573e-04\n",
            "Epoch 64/100\n",
            "12/12 [==============================] - 0s 18ms/step - loss: 0.0016 - val_loss: 1.9697e-04\n",
            "Epoch 65/100\n",
            "12/12 [==============================] - 0s 19ms/step - loss: 0.0108 - val_loss: 2.9811e-04\n",
            "Epoch 66/100\n",
            "12/12 [==============================] - 0s 18ms/step - loss: 0.0049 - val_loss: 2.3418e-04\n",
            "Epoch 67/100\n",
            "12/12 [==============================] - 0s 18ms/step - loss: 0.0039 - val_loss: 1.8604e-04\n",
            "Epoch 68/100\n",
            "12/12 [==============================] - 0s 18ms/step - loss: 0.0028 - val_loss: 1.6906e-04\n",
            "Epoch 69/100\n",
            "12/12 [==============================] - 0s 18ms/step - loss: 0.0026 - val_loss: 1.7391e-04\n",
            "Epoch 70/100\n",
            "12/12 [==============================] - 0s 18ms/step - loss: 0.0023 - val_loss: 1.5760e-04\n",
            "Epoch 71/100\n",
            "12/12 [==============================] - 0s 18ms/step - loss: 0.0026 - val_loss: 1.6414e-04\n",
            "Epoch 72/100\n",
            "12/12 [==============================] - 0s 18ms/step - loss: 0.0021 - val_loss: 1.6284e-04\n",
            "Epoch 73/100\n",
            "12/12 [==============================] - 0s 18ms/step - loss: 0.0018 - val_loss: 1.6804e-04\n",
            "Epoch 74/100\n",
            "12/12 [==============================] - 0s 18ms/step - loss: 0.0019 - val_loss: 2.4168e-04\n",
            "Epoch 75/100\n",
            "12/12 [==============================] - 0s 18ms/step - loss: 0.0019 - val_loss: 1.6332e-04\n",
            "Epoch 76/100\n",
            "12/12 [==============================] - 0s 18ms/step - loss: 0.0020 - val_loss: 4.9623e-04\n",
            "Epoch 77/100\n",
            "12/12 [==============================] - 0s 18ms/step - loss: 0.0017 - val_loss: 1.7543e-04\n",
            "Epoch 78/100\n",
            "12/12 [==============================] - 0s 19ms/step - loss: 0.0016 - val_loss: 2.1736e-04\n",
            "Epoch 79/100\n",
            "12/12 [==============================] - 0s 18ms/step - loss: 0.0015 - val_loss: 1.7316e-04\n",
            "Epoch 80/100\n",
            "12/12 [==============================] - 0s 18ms/step - loss: 0.0014 - val_loss: 1.9040e-04\n",
            "Epoch 81/100\n",
            "12/12 [==============================] - 0s 18ms/step - loss: 0.0016 - val_loss: 2.7084e-04\n",
            "Epoch 82/100\n",
            "12/12 [==============================] - 0s 18ms/step - loss: 0.0018 - val_loss: 2.7105e-04\n",
            "Epoch 83/100\n",
            "12/12 [==============================] - 0s 18ms/step - loss: 0.0037 - val_loss: 2.0383e-04\n",
            "Epoch 84/100\n",
            "12/12 [==============================] - 0s 17ms/step - loss: 0.0054 - val_loss: 4.0858e-04\n",
            "Epoch 85/100\n",
            "12/12 [==============================] - 0s 18ms/step - loss: 0.0028 - val_loss: 1.5738e-04\n",
            "Epoch 86/100\n",
            "12/12 [==============================] - 0s 17ms/step - loss: 0.0022 - val_loss: 1.7099e-04\n",
            "Epoch 87/100\n",
            "12/12 [==============================] - 0s 18ms/step - loss: 0.0020 - val_loss: 2.2281e-04\n",
            "Epoch 88/100\n",
            "12/12 [==============================] - 0s 18ms/step - loss: 0.0022 - val_loss: 6.2677e-04\n",
            "Epoch 89/100\n",
            "12/12 [==============================] - 0s 18ms/step - loss: 0.0025 - val_loss: 2.5208e-04\n",
            "Epoch 90/100\n",
            "12/12 [==============================] - 0s 18ms/step - loss: 0.0022 - val_loss: 3.9849e-04\n",
            "Epoch 91/100\n",
            "12/12 [==============================] - 0s 18ms/step - loss: 0.0020 - val_loss: 3.1355e-04\n",
            "Epoch 92/100\n",
            "12/12 [==============================] - 0s 19ms/step - loss: 0.0020 - val_loss: 1.6406e-04\n",
            "Epoch 93/100\n",
            "12/12 [==============================] - 0s 18ms/step - loss: 0.0016 - val_loss: 1.5526e-04\n",
            "Epoch 94/100\n",
            "12/12 [==============================] - 0s 18ms/step - loss: 0.0019 - val_loss: 3.1421e-04\n",
            "Epoch 95/100\n",
            "12/12 [==============================] - 0s 18ms/step - loss: 0.0017 - val_loss: 1.6631e-04\n",
            "Epoch 96/100\n",
            "12/12 [==============================] - 0s 17ms/step - loss: 0.0015 - val_loss: 1.7855e-04\n",
            "Epoch 97/100\n",
            "12/12 [==============================] - 0s 19ms/step - loss: 0.0014 - val_loss: 2.8279e-04\n",
            "Epoch 98/100\n",
            "12/12 [==============================] - 0s 18ms/step - loss: 0.0013 - val_loss: 2.5410e-04\n",
            "Epoch 99/100\n",
            "12/12 [==============================] - 0s 18ms/step - loss: 0.0016 - val_loss: 3.1494e-04\n",
            "Epoch 100/100\n",
            "12/12 [==============================] - 0s 18ms/step - loss: 0.0014 - val_loss: 2.2811e-04\n"
          ]
        },
        {
          "output_type": "execute_result",
          "data": {
            "text/plain": [
              "<keras.callbacks.History at 0x7fc1843ff950>"
            ]
          },
          "metadata": {},
          "execution_count": 8
        }
      ]
    },
    {
      "cell_type": "code",
      "source": [
        "# Make prediction on Train and Test data\n",
        "train_predict=model.predict(X_train)\n",
        "test_predict=model.predict(X_test)\n",
        "\n",
        "# Inverse Transform prediction from range (0,1) to it's normal range\n",
        "train_predict=scaler.inverse_transform(train_predict)\n",
        "test_predict=scaler.inverse_transform(test_predict)\n",
        "\n",
        "# Print error on Train data\n",
        "math.sqrt(mean_squared_error(y_train,train_predict))\n",
        "print()\n",
        "\n",
        "# Print error on Test data\n",
        "print(math.sqrt(mean_squared_error(y_test,test_predict)))"
      ],
      "metadata": {
        "id": "82icX6JjVHd1",
        "colab": {
          "base_uri": "https://localhost:8080/"
        },
        "outputId": "12ccc591-34ee-466f-ca4e-d1a7d6510d9f"
      },
      "execution_count": null,
      "outputs": [
        {
          "output_type": "stream",
          "name": "stdout",
          "text": [
            "\n",
            "152.32224774634656\n"
          ]
        }
      ]
    }
  ]
}